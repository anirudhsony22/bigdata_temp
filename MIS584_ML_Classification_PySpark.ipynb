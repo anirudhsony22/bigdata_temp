{
  "nbformat": 4,
  "nbformat_minor": 0,
  "metadata": {
    "colab": {
      "provenance": [],
      "include_colab_link": true
    },
    "kernelspec": {
      "name": "python3",
      "display_name": "Python 3"
    },
    "language_info": {
      "name": "python"
    }
  },
  "cells": [
    {
      "cell_type": "markdown",
      "metadata": {
        "id": "view-in-github",
        "colab_type": "text"
      },
      "source": [
        "<a href=\"https://colab.research.google.com/github/anirudhsony22/bigdata_temp/blob/main/MIS584_ML_Classification_PySpark.ipynb\" target=\"_parent\"><img src=\"https://colab.research.google.com/assets/colab-badge.svg\" alt=\"Open In Colab\"/></a>"
      ]
    },
    {
      "cell_type": "markdown",
      "source": [
        "#MIS584_ML_Classification_PySpark.ipynb"
      ],
      "metadata": {
        "id": "CLyHxTZ1Gxto"
      }
    },
    {
      "cell_type": "markdown",
      "source": [
        "## Practice on Supervised Classification Methods\n",
        "In this notebook, we will practice the use of various methods discussed in classes for supervised classification tasks. Specifically, we will be using the popular `scikit-learn` python package to apply the following classification methods:\n",
        "* k-nearest neighbor\n",
        "* naive bayes\n",
        "* logistic regression\n",
        "* support vector machine\n",
        "* decision tree\n",
        "\n",
        "We will also employ useful functions provided by the `scikit-learn` package for evaluating the performance of these methods. The dataset we will be working on is the heart disease dataset from the UCI machine learning repository. You can find the detailed descriptions on the data set through this [link](https://archive.ics.uci.edu/ml/datasets/Heart+Disease). Essentially, the heart disease dataset includes various input variables on patients' attributes (e.g., age, gender, cholestoral, etc.) and the target variable is whether a patient is diagnosed with heart disease or not. The variables of the dataset and their definitions are listed below:\n",
        "* age: age in years\n",
        "* sex: sex (1 = male; 0 = female)\n",
        "* cp: chest pain type\n",
        "    * Value 1: typical angina\n",
        "    * Value 2: atypical angina\n",
        "    * Value 3: non-anginal pain\n",
        "    * Value 4: asymptomatic\n",
        "* trestbps: resting blood pressure (in mm Hg on admission to the hospital)\n",
        "* chol: serum cholestoral in mg/dl\n",
        "* fbs: (fasting blood sugar > 120 mg/dl) (1 = true; 0 = false)\n",
        "* restecg: resting electrocardiographic results\n",
        "    * Value 0: normal\n",
        "    * Value 1: having ST-T wave abnormality (T wave inversions and/or ST elevation or depression of > 0.05 mV)\n",
        "    * Value 2: showing probable or definite left ventricular hypertrophy by Estes' criteria\n",
        "* thalach: maximum heart rate achieved\n",
        "* xang: exercise induced angina (1 = yes; 0 = no)\n",
        "* oldpeak: ST depression induced by exercise relative to rest\n",
        "* slope: the slope of the peak exercise ST segment\n",
        "    * Value 1: upsloping\n",
        "    * Value 2: flat\n",
        "    * Value 3: downsloping\n",
        "* ca: number of major vessels (0-3) colored by flourosopy\n",
        "* thal: 3 = normal; 6 = fixed defect; 7 = reversable defect\n",
        "* num (target variable): diagnosis of heart disease (angiographic disease status); 0: < 50% diameter narrowing; 1: > 50% diameter narrowing\n"
      ],
      "metadata": {
        "id": "ifg-feZv1J-e"
      }
    },
    {
      "cell_type": "markdown",
      "source": [
        "### Download and Read Dataset"
      ],
      "metadata": {
        "id": "6Bj-rAdmHhi1"
      }
    },
    {
      "cell_type": "code",
      "source": [
        "#######################################################################\n",
        "### Python Pandas and Scikit-learn\n",
        "\n",
        "import pandas as pd\n",
        "from urllib.request import urlretrieve\n",
        "\n",
        "# download the dataset\n",
        "urlretrieve('https://drive.google.com/uc?export=download&id=19W0wK1VB1jMjFpxvG3o0m2OxHf-F2cN3',\n",
        "            'cleveland.csv')\n",
        "\n",
        "# read the dataset\n",
        "data_pd = pd.read_csv('cleveland.csv')\n",
        "\n",
        "# show the dataset\n",
        "## list the shape of the dataset\n",
        "print('Shape of the dataset: ')\n",
        "print(data_pd.shape)\n",
        "print()\n",
        "\n",
        "## display the first 10 rows\n",
        "print('First 10 rows of the dataset: ')\n",
        "print(data_pd.head(n=10))\n",
        "print()"
      ],
      "metadata": {
        "id": "qgrcK28JHll6",
        "colab": {
          "base_uri": "https://localhost:8080/"
        },
        "outputId": "131d78ab-875e-48cc-c67e-5adba7fc27c9"
      },
      "execution_count": null,
      "outputs": [
        {
          "output_type": "stream",
          "name": "stdout",
          "text": [
            "Shape of the dataset: \n",
            "(303, 14)\n",
            "\n",
            "First 10 rows of the dataset: \n",
            "   age  sex  cp  trestbps  chol  fbs  restecg  thalach  exang  oldpeak  slope  \\\n",
            "0   63    1   1       145   233    1        2      150      0      2.3      3   \n",
            "1   67    1   4       160   286    0        2      108      1      1.5      2   \n",
            "2   67    1   4       120   229    0        2      129      1      2.6      2   \n",
            "3   37    1   3       130   250    0        0      187      0      3.5      3   \n",
            "4   41    0   2       130   204    0        2      172      0      1.4      1   \n",
            "5   56    1   2       120   236    0        0      178      0      0.8      1   \n",
            "6   62    0   4       140   268    0        2      160      0      3.6      3   \n",
            "7   57    0   4       120   354    0        0      163      1      0.6      1   \n",
            "8   63    1   4       130   254    0        2      147      0      1.4      2   \n",
            "9   53    1   4       140   203    1        2      155      1      3.1      3   \n",
            "\n",
            "  ca thal  num  \n",
            "0  0    6    0  \n",
            "1  3    3    1  \n",
            "2  2    7    1  \n",
            "3  0    3    0  \n",
            "4  0    3    0  \n",
            "5  0    3    0  \n",
            "6  2    3    1  \n",
            "7  0    3    0  \n",
            "8  1    7    1  \n",
            "9  0    7    1  \n",
            "\n"
          ]
        }
      ]
    },
    {
      "cell_type": "code",
      "source": [
        "!pip install pyspark"
      ],
      "metadata": {
        "colab": {
          "base_uri": "https://localhost:8080/"
        },
        "id": "2JWvhwr7WPq0",
        "outputId": "98f51508-1d2b-49e9-80f0-ea0898c58df4"
      },
      "execution_count": null,
      "outputs": [
        {
          "output_type": "stream",
          "name": "stdout",
          "text": [
            "Requirement already satisfied: pyspark in /usr/local/lib/python3.10/dist-packages (3.5.3)\n",
            "Requirement already satisfied: py4j==0.10.9.7 in /usr/local/lib/python3.10/dist-packages (from pyspark) (0.10.9.7)\n"
          ]
        }
      ]
    },
    {
      "cell_type": "code",
      "source": [
        "#######################################################################\n",
        "### PySpark\n",
        "\n",
        "from pyspark.sql import SparkSession\n",
        "import requests\n",
        "\n",
        "# Initialize Spark session\n",
        "spark = SparkSession.builder \\\n",
        "    .appName(\"Cleveland Data Analysis\") \\\n",
        "    .getOrCreate()\n",
        "\n",
        "# Define the URL and local path\n",
        "url = 'https://drive.google.com/uc?export=download&id=19W0wK1VB1jMjFpxvG3o0m2OxHf-F2cN3'\n",
        "local_path = 'cleveland.csv'\n",
        "\n",
        "# Download the dataset\n",
        "response = requests.get(url)\n",
        "with open(local_path, 'wb') as file:\n",
        "    file.write(response.content)\n",
        "\n",
        "# Read the dataset\n",
        "data = spark.read.csv(local_path, header=True, inferSchema=True)\n",
        "print(\"Type of data: \", type(data))\n",
        "\n",
        "# Show the shape of the dataset\n",
        "print('Shape of the dataset: ')\n",
        "print((data.count(), len(data.columns)))\n",
        "print()\n",
        "\n",
        "# Display the first 10 rows\n",
        "print('First 10 rows of the dataset: ')\n",
        "data.show(10)\n",
        "print()\n",
        "\n",
        "# # Stop the Spark session\n",
        "# spark.stop()"
      ],
      "metadata": {
        "colab": {
          "base_uri": "https://localhost:8080/"
        },
        "id": "YGStKDdiV-rp",
        "outputId": "5f747c06-23dc-4b60-a4ee-dcc75ea46e0e"
      },
      "execution_count": null,
      "outputs": [
        {
          "output_type": "stream",
          "name": "stdout",
          "text": [
            "Type of data:  <class 'pyspark.sql.dataframe.DataFrame'>\n",
            "Shape of the dataset: \n",
            "(303, 14)\n",
            "\n",
            "First 10 rows of the dataset: \n",
            "+---+---+---+--------+----+---+-------+-------+-----+-------+-----+---+----+---+\n",
            "|age|sex| cp|trestbps|chol|fbs|restecg|thalach|exang|oldpeak|slope| ca|thal|num|\n",
            "+---+---+---+--------+----+---+-------+-------+-----+-------+-----+---+----+---+\n",
            "| 63|  1|  1|     145| 233|  1|      2|    150|    0|    2.3|    3|  0|   6|  0|\n",
            "| 67|  1|  4|     160| 286|  0|      2|    108|    1|    1.5|    2|  3|   3|  1|\n",
            "| 67|  1|  4|     120| 229|  0|      2|    129|    1|    2.6|    2|  2|   7|  1|\n",
            "| 37|  1|  3|     130| 250|  0|      0|    187|    0|    3.5|    3|  0|   3|  0|\n",
            "| 41|  0|  2|     130| 204|  0|      2|    172|    0|    1.4|    1|  0|   3|  0|\n",
            "| 56|  1|  2|     120| 236|  0|      0|    178|    0|    0.8|    1|  0|   3|  0|\n",
            "| 62|  0|  4|     140| 268|  0|      2|    160|    0|    3.6|    3|  2|   3|  1|\n",
            "| 57|  0|  4|     120| 354|  0|      0|    163|    1|    0.6|    1|  0|   3|  0|\n",
            "| 63|  1|  4|     130| 254|  0|      2|    147|    0|    1.4|    2|  1|   7|  1|\n",
            "| 53|  1|  4|     140| 203|  1|      2|    155|    1|    3.1|    3|  0|   7|  1|\n",
            "+---+---+---+--------+----+---+-------+-------+-----+-------+-----+---+----+---+\n",
            "only showing top 10 rows\n",
            "\n",
            "\n"
          ]
        }
      ]
    },
    {
      "cell_type": "code",
      "source": [
        "#######################################################################\n",
        "### Python Pandas and Scikit-learn\n",
        "\n",
        "## summarize the dataset\n",
        "print('Summary of the dataset:')\n",
        "print(data_pd.describe())\n",
        "print()\n",
        "\n",
        "# examine missing values (labeled w/ \"?\")\n",
        "print('Number of missing observations for each attribute:')\n",
        "print((data_pd == '?').sum(axis=0))\n",
        "print()"
      ],
      "metadata": {
        "colab": {
          "base_uri": "https://localhost:8080/"
        },
        "id": "2aFYdyTWbBWp",
        "outputId": "f8f4adfb-347b-4c94-c4c0-2f96089152ef"
      },
      "execution_count": null,
      "outputs": [
        {
          "output_type": "stream",
          "name": "stdout",
          "text": [
            "Summary of the dataset:\n",
            "              age         sex          cp    trestbps        chol         fbs  \\\n",
            "count  303.000000  303.000000  303.000000  303.000000  303.000000  303.000000   \n",
            "mean    54.438944    0.679868    3.158416  131.689769  246.693069    0.148515   \n",
            "std      9.038662    0.467299    0.960126   17.599748   51.776918    0.356198   \n",
            "min     29.000000    0.000000    1.000000   94.000000  126.000000    0.000000   \n",
            "25%     48.000000    0.000000    3.000000  120.000000  211.000000    0.000000   \n",
            "50%     56.000000    1.000000    3.000000  130.000000  241.000000    0.000000   \n",
            "75%     61.000000    1.000000    4.000000  140.000000  275.000000    0.000000   \n",
            "max     77.000000    1.000000    4.000000  200.000000  564.000000    1.000000   \n",
            "\n",
            "          restecg     thalach       exang     oldpeak       slope         num  \n",
            "count  303.000000  303.000000  303.000000  303.000000  303.000000  303.000000  \n",
            "mean     0.990099  149.607261    0.326733    1.039604    1.600660    0.458746  \n",
            "std      0.994971   22.875003    0.469794    1.161075    0.616226    0.499120  \n",
            "min      0.000000   71.000000    0.000000    0.000000    1.000000    0.000000  \n",
            "25%      0.000000  133.500000    0.000000    0.000000    1.000000    0.000000  \n",
            "50%      1.000000  153.000000    0.000000    0.800000    2.000000    0.000000  \n",
            "75%      2.000000  166.000000    1.000000    1.600000    2.000000    1.000000  \n",
            "max      2.000000  202.000000    1.000000    6.200000    3.000000    1.000000  \n",
            "\n",
            "Number of missing observations for each attribute:\n",
            "age         0\n",
            "sex         0\n",
            "cp          0\n",
            "trestbps    0\n",
            "chol        0\n",
            "fbs         0\n",
            "restecg     0\n",
            "thalach     0\n",
            "exang       0\n",
            "oldpeak     0\n",
            "slope       0\n",
            "ca          4\n",
            "thal        2\n",
            "num         0\n",
            "dtype: int64\n",
            "\n"
          ]
        }
      ]
    },
    {
      "cell_type": "code",
      "source": [
        "#######################################################################\n",
        "### PySpark\n",
        "\n",
        "from pyspark.sql.functions import col, when, count\n",
        "\n",
        "# Summarize the dataset\n",
        "print('Summary of the dataset:')\n",
        "data.describe().show()\n",
        "print()\n",
        "\n",
        "# Examine missing values (labeled with \"?\")\n",
        "# Count occurrences of \"?\" in each column\n",
        "print('Number of missing observations for each attribute:')\n",
        "missing_values = data.select([count(when(col(c) == \"?\", c)).alias(c) for c in data.columns])\n",
        "missing_values.show()\n",
        "print()"
      ],
      "metadata": {
        "colab": {
          "base_uri": "https://localhost:8080/"
        },
        "id": "rfcw0JKXW9-F",
        "outputId": "bd7e7c14-2eff-42b7-b8a4-57d2e6dc7949"
      },
      "execution_count": null,
      "outputs": [
        {
          "output_type": "stream",
          "name": "stdout",
          "text": [
            "Summary of the dataset:\n",
            "+-------+-----------------+-------------------+------------------+------------------+------------------+------------------+------------------+------------------+-------------------+------------------+------------------+------------------+------------------+-------------------+\n",
            "|summary|              age|                sex|                cp|          trestbps|              chol|               fbs|           restecg|           thalach|              exang|           oldpeak|             slope|                ca|              thal|                num|\n",
            "+-------+-----------------+-------------------+------------------+------------------+------------------+------------------+------------------+------------------+-------------------+------------------+------------------+------------------+------------------+-------------------+\n",
            "|  count|              303|                303|               303|               303|               303|               303|               303|               303|                303|               303|               303|               303|               303|                303|\n",
            "|   mean|54.43894389438944| 0.6798679867986799|3.1584158415841586|131.68976897689768|246.69306930693068|0.1485148514851485|0.9900990099009901| 149.6072607260726|0.32673267326732675|1.0396039603960396|1.6006600660066006|0.6722408026755853|  4.73421926910299|0.45874587458745875|\n",
            "| stddev| 9.03866244244675|0.46729882777012977|0.9601256119600138| 17.59974772958769|51.776917542637065|0.3561978749279763|0.9949712915251783|22.875003276980383|0.46979446452231644| 1.161075022068635|0.6162261453459619| 0.937438317724216|1.9397057693786433|0.49911950098752644|\n",
            "|    min|               29|                  0|                 1|                94|               126|                 0|                 0|                71|                  0|               0.0|                 1|                 0|                 3|                  0|\n",
            "|    max|               77|                  1|                 4|               200|               564|                 1|                 2|               202|                  1|               6.2|                 3|                 ?|                 ?|                  1|\n",
            "+-------+-----------------+-------------------+------------------+------------------+------------------+------------------+------------------+------------------+-------------------+------------------+------------------+------------------+------------------+-------------------+\n",
            "\n",
            "\n",
            "Number of missing observations for each attribute:\n",
            "+---+---+---+--------+----+---+-------+-------+-----+-------+-----+---+----+---+\n",
            "|age|sex| cp|trestbps|chol|fbs|restecg|thalach|exang|oldpeak|slope| ca|thal|num|\n",
            "+---+---+---+--------+----+---+-------+-------+-----+-------+-----+---+----+---+\n",
            "|  0|  0|  0|       0|   0|  0|      0|      0|    0|      0|    0|  4|   2|  0|\n",
            "+---+---+---+--------+----+---+-------+-------+-----+-------+-----+---+----+---+\n",
            "\n",
            "\n"
          ]
        }
      ]
    },
    {
      "cell_type": "code",
      "source": [
        "#######################################################################\n",
        "### Python Pandas and Scikit-learn\n",
        "\n",
        "## replace missing ca with value 0\n",
        "data_pd.loc[data_pd['ca'] == '?', 'ca'] = 0       # ca: number of major vessels (0-3) colored by flourosopy\n",
        "\n",
        "## replace missing thal with value 3\n",
        "data_pd.loc[data_pd['thal'] == '?', 'thal'] = 3   # thal: 3 = normal; 6 = fixed defect; 7 = reversable defect\n",
        "\n",
        "## examine number of missing values again\n",
        "print('Number of missing observations for each attribute after imputation:')\n",
        "print((data_pd == '?').sum(axis=0))\n",
        "print()\n",
        "\n",
        "# create training data and labels\n",
        "X_pd = data_pd.drop(columns='num')\n",
        "y_pd = data_pd['num']"
      ],
      "metadata": {
        "id": "TFzToTD7bGrG",
        "outputId": "9f1aadad-0b74-487f-d40d-933a625667b0",
        "colab": {
          "base_uri": "https://localhost:8080/"
        }
      },
      "execution_count": null,
      "outputs": [
        {
          "output_type": "stream",
          "name": "stdout",
          "text": [
            "Number of missing observations for each attribute after imputation:\n",
            "age         0\n",
            "sex         0\n",
            "cp          0\n",
            "trestbps    0\n",
            "chol        0\n",
            "fbs         0\n",
            "restecg     0\n",
            "thalach     0\n",
            "exang       0\n",
            "oldpeak     0\n",
            "slope       0\n",
            "ca          0\n",
            "thal        0\n",
            "num         0\n",
            "dtype: int64\n",
            "\n"
          ]
        }
      ]
    },
    {
      "cell_type": "code",
      "source": [
        "#######################################################################\n",
        "### PySpark\n",
        "\n",
        "# Replace missing 'ca' values with 0\n",
        "data = data.withColumn('ca', when(col('ca') == \"?\", 0).otherwise(col('ca').cast('integer')))\n",
        "\n",
        "# Replace missing 'thal' values with 3\n",
        "data = data.withColumn('thal', when(col('thal') == \"?\", 3).otherwise(col('thal').cast('integer')))\n",
        "\n",
        "# Examine number of missing values again\n",
        "print('Number of missing observations for each attribute after imputation:')\n",
        "missing_values_post_imputation = data.select([count(when(col(c) == \"?\", c)).alias(c) for c in data.columns])\n",
        "missing_values_post_imputation.show()\n",
        "print()\n",
        "\n",
        "# Create training data and labels\n",
        "X = data.drop('num')\n",
        "y = data.select('num')\n",
        "\n",
        "print('Training data (features):')\n",
        "X.show(5)  # Show a few rows of the features\n",
        "print()\n",
        "\n",
        "print('Labels:')\n",
        "y.show(5)  # Show a few rows of the labels\n",
        "print()\n"
      ],
      "metadata": {
        "colab": {
          "base_uri": "https://localhost:8080/"
        },
        "id": "R8MbDgyzXpQz",
        "outputId": "75458901-e7fd-44bb-89b2-789906c5bb6b"
      },
      "execution_count": null,
      "outputs": [
        {
          "output_type": "stream",
          "name": "stdout",
          "text": [
            "Number of missing observations for each attribute after imputation:\n",
            "+---+---+---+--------+----+---+-------+-------+-----+-------+-----+---+----+---+\n",
            "|age|sex| cp|trestbps|chol|fbs|restecg|thalach|exang|oldpeak|slope| ca|thal|num|\n",
            "+---+---+---+--------+----+---+-------+-------+-----+-------+-----+---+----+---+\n",
            "|  0|  0|  0|       0|   0|  0|      0|      0|    0|      0|    0|  0|   0|  0|\n",
            "+---+---+---+--------+----+---+-------+-------+-----+-------+-----+---+----+---+\n",
            "\n",
            "\n",
            "Training data (features):\n",
            "+---+---+---+--------+----+---+-------+-------+-----+-------+-----+---+----+\n",
            "|age|sex| cp|trestbps|chol|fbs|restecg|thalach|exang|oldpeak|slope| ca|thal|\n",
            "+---+---+---+--------+----+---+-------+-------+-----+-------+-----+---+----+\n",
            "| 63|  1|  1|     145| 233|  1|      2|    150|    0|    2.3|    3|  0|   6|\n",
            "| 67|  1|  4|     160| 286|  0|      2|    108|    1|    1.5|    2|  3|   3|\n",
            "| 67|  1|  4|     120| 229|  0|      2|    129|    1|    2.6|    2|  2|   7|\n",
            "| 37|  1|  3|     130| 250|  0|      0|    187|    0|    3.5|    3|  0|   3|\n",
            "| 41|  0|  2|     130| 204|  0|      2|    172|    0|    1.4|    1|  0|   3|\n",
            "+---+---+---+--------+----+---+-------+-------+-----+-------+-----+---+----+\n",
            "only showing top 5 rows\n",
            "\n",
            "\n",
            "Labels:\n",
            "+---+\n",
            "|num|\n",
            "+---+\n",
            "|  0|\n",
            "|  1|\n",
            "|  1|\n",
            "|  0|\n",
            "|  0|\n",
            "+---+\n",
            "only showing top 5 rows\n",
            "\n",
            "\n"
          ]
        }
      ]
    },
    {
      "cell_type": "markdown",
      "source": [
        "### Method 1: K-Nearest Neighbor"
      ],
      "metadata": {
        "id": "RMp42sRsHT3q"
      }
    },
    {
      "cell_type": "code",
      "source": [
        "#######################################################################\n",
        "### Python Pandas and Scikit-learn\n",
        "\n",
        "from sklearn.neighbors import KNeighborsClassifier\n",
        "from sklearn.model_selection import train_test_split\n",
        "\n",
        "# we first split all data into test set and training & validation sets combined\n",
        "X_train, X_test, y_train, y_test = train_test_split(X_pd, y_pd, test_size=0.3, random_state=1)\n",
        "\n",
        "knn = KNeighborsClassifier(n_neighbors=3)       # K = 5\n",
        "knn.fit(X_train, y_train)                                # fit the model\n",
        "knn_pred = knn.predict(X_test)                       # make predictions\n",
        "knn_score = knn.predict_proba(X_test)                # get prediction scores\n",
        "\n",
        "# print the predicted labels\n",
        "print('Predicted labels:')\n",
        "print(knn_pred)\n",
        "print()\n",
        "\n",
        "# print the prediction scores\n",
        "print('Predicted scores:')\n",
        "print(knn_score[:20])\n",
        "print()"
      ],
      "metadata": {
        "id": "Mm4ykKwBHPXB",
        "colab": {
          "base_uri": "https://localhost:8080/"
        },
        "outputId": "a936c910-1982-4677-e63a-6948c7d4fd0d"
      },
      "execution_count": null,
      "outputs": [
        {
          "output_type": "stream",
          "name": "stdout",
          "text": [
            "Predicted labels:\n",
            "[0 1 0 1 1 0 1 1 1 1 1 1 1 0 0 0 0 0 1 0 1 1 1 1 0 0 1 0 1 0 0 1 1 1 0 0 1\n",
            " 1 1 0 0 0 0 1 1 0 0 0 0 0 0 1 1 0 1 0 0 0 0 0 0 1 1 1 0 1 0 1 0 0 0 0 0 0\n",
            " 1 0 1 0 0 1 1 0 0 0 0 1 0 0 0 1 1]\n",
            "\n",
            "Predicted scores:\n",
            "[[1.         0.        ]\n",
            " [0.33333333 0.66666667]\n",
            " [0.66666667 0.33333333]\n",
            " [0.         1.        ]\n",
            " [0.33333333 0.66666667]\n",
            " [0.66666667 0.33333333]\n",
            " [0.33333333 0.66666667]\n",
            " [0.         1.        ]\n",
            " [0.33333333 0.66666667]\n",
            " [0.33333333 0.66666667]\n",
            " [0.         1.        ]\n",
            " [0.         1.        ]\n",
            " [0.33333333 0.66666667]\n",
            " [1.         0.        ]\n",
            " [1.         0.        ]\n",
            " [1.         0.        ]\n",
            " [1.         0.        ]\n",
            " [1.         0.        ]\n",
            " [0.33333333 0.66666667]\n",
            " [0.66666667 0.33333333]]\n",
            "\n"
          ]
        }
      ]
    },
    {
      "cell_type": "code",
      "source": [
        "#######################################################################\n",
        "### Python Pandas and Scikit-learn\n",
        "\n",
        "from sklearn.metrics import confusion_matrix, accuracy_score, recall_score,\\\n",
        "    precision_score, f1_score, roc_auc_score\n",
        "\n",
        "# calculate prediction performance\n",
        "## confusion matrix; Note: the definition is different from the one in our slides\n",
        "## scikit-learn's definition: C_{i, j}: number of observations from group i and predicgted to be in group j\n",
        "## see https://scikit-learn.org/stable/modules/generated/sklearn.metrics.confusion_matrix.html for more details\n",
        "\n",
        "print('Confusion Matrix:')\n",
        "knn_conf_mat = confusion_matrix(y_test, knn_pred)\n",
        "print(knn_conf_mat)\n",
        "print()\n",
        "\n",
        "## accuracy\n",
        "knn_acc = accuracy_score(y_test, knn_pred)\n",
        "print('Prediction accuracy: {:.4f}'.format(knn_acc))\n",
        "\n",
        "## recall\n",
        "knn_recall = recall_score(y_test, knn_pred)\n",
        "print('Prediction recall: {:.4f}'.format(knn_recall))\n",
        "\n",
        "## precision\n",
        "knn_precision = precision_score(y_test, knn_pred)\n",
        "print('Prediction precision: {:.4f}'.format(knn_precision))\n",
        "\n",
        "## F1 score\n",
        "knn_f1 = f1_score(y_test, knn_pred)\n",
        "print('Prediction F1: {:.4f}'.format(knn_f1))\n",
        "\n",
        "## AUC-ROC\n",
        "knn_auc = roc_auc_score(y_test, knn_score[:, 1]) # provide predicted scores for label 1 (instead of predicted label).\n",
        "print('AUC-ROC : {:.4f}'.format(knn_auc))\n",
        "print()"
      ],
      "metadata": {
        "id": "o2PuJO7_K1XI",
        "colab": {
          "base_uri": "https://localhost:8080/"
        },
        "outputId": "1b65a822-80ea-4f24-9567-6dde26ec6b54"
      },
      "execution_count": null,
      "outputs": [
        {
          "output_type": "stream",
          "name": "stdout",
          "text": [
            "Confusion Matrix:\n",
            "[[34 15]\n",
            " [17 25]]\n",
            "\n",
            "Prediction accuracy: 0.6484\n",
            "Prediction recall: 0.5952\n",
            "Prediction precision: 0.6250\n",
            "Prediction F1: 0.6098\n",
            "AUC-ROC : 0.6936\n",
            "\n"
          ]
        }
      ]
    },
    {
      "cell_type": "code",
      "source": [
        "#######################################################################\n",
        "### PySpark\n",
        "\n",
        "# No KNN algorithm provided in Spark.\n",
        "\n",
        "# Spark algorithms for Classification and Regression:\n",
        "# https://spark.apache.org/docs/latest/ml-classification-regression.html\n",
        "\n",
        "# KNN is notoriously hard to parallelize in Spark because KNN is a \"lazy learner\" and the model itself is the entire dataset.\n",
        "# Most single machine implementations rely on KD Trees or Ball Trees to store the entire dataset in the RAM of a single machine.\n",
        "# I would recommend using scikit-learn's single machine implementation with a Simple Random Sample of the dataset if you really want to use KNN.\n",
        "# https://community.databricks.com/t5/data-engineering/knn-classifier-on-spark/td-p/29328\n",
        "\n",
        "from pyspark.ml.feature import VectorAssembler\n",
        "from pyspark.ml.classification import KNNClassifier\n",
        "from pyspark.ml.evaluation import MulticlassClassificationEvaluator"
      ],
      "metadata": {
        "colab": {
          "base_uri": "https://localhost:8080/",
          "height": 366
        },
        "id": "S8v1q02sZGHW",
        "outputId": "cca8359a-a50a-43e0-92be-6fab4a0aca36"
      },
      "execution_count": null,
      "outputs": [
        {
          "output_type": "error",
          "ename": "ImportError",
          "evalue": "cannot import name 'KNNClassifier' from 'pyspark.ml.classification' (/usr/local/lib/python3.10/dist-packages/pyspark/ml/classification.py)",
          "traceback": [
            "\u001b[0;31m---------------------------------------------------------------------------\u001b[0m",
            "\u001b[0;31mImportError\u001b[0m                               Traceback (most recent call last)",
            "\u001b[0;32m<ipython-input-29-29cba0a661df>\u001b[0m in \u001b[0;36m<cell line: 15>\u001b[0;34m()\u001b[0m\n\u001b[1;32m     13\u001b[0m \u001b[0;34m\u001b[0m\u001b[0m\n\u001b[1;32m     14\u001b[0m \u001b[0;32mfrom\u001b[0m \u001b[0mpyspark\u001b[0m\u001b[0;34m.\u001b[0m\u001b[0mml\u001b[0m\u001b[0;34m.\u001b[0m\u001b[0mfeature\u001b[0m \u001b[0;32mimport\u001b[0m \u001b[0mVectorAssembler\u001b[0m\u001b[0;34m\u001b[0m\u001b[0;34m\u001b[0m\u001b[0m\n\u001b[0;32m---> 15\u001b[0;31m \u001b[0;32mfrom\u001b[0m \u001b[0mpyspark\u001b[0m\u001b[0;34m.\u001b[0m\u001b[0mml\u001b[0m\u001b[0;34m.\u001b[0m\u001b[0mclassification\u001b[0m \u001b[0;32mimport\u001b[0m \u001b[0mKNNClassifier\u001b[0m\u001b[0;34m\u001b[0m\u001b[0;34m\u001b[0m\u001b[0m\n\u001b[0m\u001b[1;32m     16\u001b[0m \u001b[0;32mfrom\u001b[0m \u001b[0mpyspark\u001b[0m\u001b[0;34m.\u001b[0m\u001b[0mml\u001b[0m\u001b[0;34m.\u001b[0m\u001b[0mevaluation\u001b[0m \u001b[0;32mimport\u001b[0m \u001b[0mMulticlassClassificationEvaluator\u001b[0m\u001b[0;34m\u001b[0m\u001b[0;34m\u001b[0m\u001b[0m\n",
            "\u001b[0;31mImportError\u001b[0m: cannot import name 'KNNClassifier' from 'pyspark.ml.classification' (/usr/local/lib/python3.10/dist-packages/pyspark/ml/classification.py)",
            "",
            "\u001b[0;31m---------------------------------------------------------------------------\u001b[0;32m\nNOTE: If your import is failing due to a missing package, you can\nmanually install dependencies using either !pip or !apt.\n\nTo view examples of installing some common dependencies, click the\n\"Open Examples\" button below.\n\u001b[0;31m---------------------------------------------------------------------------\u001b[0m\n"
          ],
          "errorDetails": {
            "actions": [
              {
                "action": "open_url",
                "actionText": "Open Examples",
                "url": "/notebooks/snippets/importing_libraries.ipynb"
              }
            ]
          }
        }
      ]
    },
    {
      "cell_type": "code",
      "source": [
        "# quick check problem 1:\n",
        "# change the number of neighbors used in knn and see how it affects the performance\n",
        "\n"
      ],
      "metadata": {
        "id": "efQr2FJhNVOe"
      },
      "execution_count": null,
      "outputs": []
    },
    {
      "cell_type": "markdown",
      "source": [
        "### Method 2: Naive Bayes"
      ],
      "metadata": {
        "id": "PvMK_MwFHUsZ"
      }
    },
    {
      "cell_type": "code",
      "source": [
        "#######################################################################\n",
        "### Python Pandas and Scikit-learn\n",
        "\n",
        "from sklearn.naive_bayes import GaussianNB\n",
        "\n",
        "# we first split all data into test set and training & validation sets combined\n",
        "X_train, X_test, y_train, y_test = train_test_split(X_pd, y_pd, test_size=0.3, random_state=1)\n",
        "\n",
        "gnb = GaussianNB()\n",
        "gnb.fit(X_train, y_train)                                   # fit the model\n",
        "gnb_pred = gnb.predict(X_test)                       # make predictions\n",
        "gnb_score = gnb.predict_proba(X_test)                # get prediction scores\n",
        "\n",
        "## accuracy\n",
        "gnb_acc = accuracy_score(y_test, gnb_pred)\n",
        "print('Prediction accuracy: {:.4f}'.format(gnb_acc))\n",
        "\n",
        "## recall\n",
        "gnb_recall = recall_score(y_test, gnb_pred)\n",
        "print('Prediction recall: {:.4f}'.format(gnb_recall))\n",
        "\n",
        "## precision\n",
        "gnb_precision = precision_score(y_test, gnb_pred)\n",
        "print('Prediction precision: {:.4f}'.format(gnb_precision))\n",
        "\n",
        "## F1 score\n",
        "gnb_f1 = f1_score(y_test, gnb_pred)\n",
        "print('Prediction F1: {:.4f}'.format(gnb_f1))\n",
        "\n",
        "## AUC-ROC\n",
        "gnb_auc = roc_auc_score(y_test, gnb_score[:, 1])\n",
        "print('AUC-ROC : {:.4f}'.format(gnb_auc))\n",
        "print()"
      ],
      "metadata": {
        "id": "U3Fo5rOES0YA",
        "colab": {
          "base_uri": "https://localhost:8080/"
        },
        "outputId": "6bf7635f-3a2e-4550-bd30-85c63be28a26"
      },
      "execution_count": null,
      "outputs": [
        {
          "output_type": "stream",
          "name": "stdout",
          "text": [
            "Prediction accuracy: 0.8681\n",
            "Prediction recall: 0.8571\n",
            "Prediction precision: 0.8571\n",
            "Prediction F1: 0.8571\n",
            "AUC-ROC : 0.9203\n",
            "\n"
          ]
        }
      ]
    },
    {
      "cell_type": "code",
      "source": [
        "#######################################################################\n",
        "### PySpark\n",
        "\n",
        "from pyspark.ml.feature import VectorAssembler\n",
        "from pyspark.ml.classification import NaiveBayes\n",
        "from pyspark.ml.evaluation import MulticlassClassificationEvaluator, BinaryClassificationEvaluator\n",
        "\n",
        "# Assemble the features into a single vector column\n",
        "# Uses a VectorAssembler to combine feature columns into a single vector column.\n",
        "assembler = VectorAssembler(inputCols=[c for c in data.columns if c != 'num'], outputCol='features')\n",
        "data = assembler.transform(data)\n",
        "\n",
        "# Prepare the DataFrame for modeling\n",
        "data = data.select(col('features'), col('num').alias('label'))\n",
        "\n",
        "# Split the data into training and test sets\n",
        "train_data, test_data = data.randomSplit([0.7, 0.3], seed=42)\n",
        "\n",
        "# Initialize and fit the Naive Bayes model\n",
        "nb = NaiveBayes(featuresCol='features', labelCol='label')\n",
        "nb_model = nb.fit(train_data)\n",
        "\n",
        "# Make predictions on the test data\n",
        "nb_predictions = nb_model.transform(test_data)\n",
        "\n",
        "# Evaluate the model\n",
        "evaluator = MulticlassClassificationEvaluator(labelCol='label', predictionCol='prediction', metricName='accuracy')\n",
        "accuracy = evaluator.evaluate(nb_predictions)\n",
        "print('Prediction accuracy: {:.4f}'.format(accuracy))\n",
        "\n",
        "recall_evaluator = MulticlassClassificationEvaluator(labelCol='label', predictionCol='prediction', metricName='weightedRecall')\n",
        "recall = recall_evaluator.evaluate(nb_predictions)\n",
        "print('Prediction recall: {:.4f}'.format(recall))\n",
        "\n",
        "precision_evaluator = MulticlassClassificationEvaluator(labelCol='label', predictionCol='prediction', metricName='weightedPrecision')\n",
        "precision = precision_evaluator.evaluate(nb_predictions)\n",
        "print('Prediction precision: {:.4f}'.format(precision))\n",
        "\n",
        "f1_evaluator = MulticlassClassificationEvaluator(labelCol='label', predictionCol='prediction', metricName='f1')\n",
        "f1_score = f1_evaluator.evaluate(nb_predictions)\n",
        "print('Prediction F1: {:.4f}'.format(f1_score))\n",
        "\n",
        "# Evaluate AUC-ROC\n",
        "binary_evaluator = BinaryClassificationEvaluator(labelCol='label', rawPredictionCol='probability', metricName='areaUnderROC')\n",
        "auc_roc = binary_evaluator.evaluate(nb_predictions)\n",
        "print('AUC-ROC: {:.4f}'.format(auc_roc))\n",
        "\n",
        "\n",
        "nb_model = nb.fit(train_data)\n",
        "\n",
        "# Make predictions on the test data\n",
        "nb_predictions = nb_model.transform(test_data)\n",
        "\n",
        "# Evaluate the model\n",
        "evaluator = MulticlassClassificationEvaluator(labelCol='label', predictionCol='prediction', metricName='accuracy')\n",
        "accuracy = evaluator.evaluate(nb_predictions)\n",
        "print('Prediction accuracy: {:.4f}'.format(accuracy))\n",
        "\n",
        "\n",
        "# Prediction accuracy: 0.7722"
      ],
      "metadata": {
        "colab": {
          "base_uri": "https://localhost:8080/"
        },
        "id": "_ZsO2Ef-atIA",
        "outputId": "b112ac28-269b-40b6-ba22-95d2a085865b"
      },
      "execution_count": null,
      "outputs": [
        {
          "output_type": "stream",
          "name": "stdout",
          "text": [
            "Prediction accuracy: 0.7722\n",
            "Prediction recall: 0.7722\n",
            "Prediction precision: 0.7728\n",
            "Prediction F1: 0.7677\n",
            "AUC-ROC: 0.8867\n"
          ]
        }
      ]
    },
    {
      "cell_type": "markdown",
      "source": [
        "**Key Differences:**\n",
        "Whereas scikit-learn uses explicit methods like predict and predict_proba,\n",
        "\n",
        "*  PySpark's DataFrame API handles predictions and probabilities in a unified call with transformations on a DataFrame.\n",
        "\n",
        "*  PySpark evaluates models with evaluators like MulticlassClassificationEvaluator and BinaryClassificationEvaluator instead of scikit-learn's evaluation metrics functions.\n"
      ],
      "metadata": {
        "id": "G-QJBBt2bf7C"
      }
    },
    {
      "cell_type": "markdown",
      "source": [
        "### Method 3: Logistic Regression"
      ],
      "metadata": {
        "id": "o6zyjrCBHXom"
      }
    },
    {
      "cell_type": "code",
      "execution_count": null,
      "metadata": {
        "id": "Mg3JtnC20LT-",
        "colab": {
          "base_uri": "https://localhost:8080/"
        },
        "outputId": "0273fc75-d5af-4466-9ab3-aae0f5ee3956"
      },
      "outputs": [
        {
          "output_type": "stream",
          "name": "stdout",
          "text": [
            "Prediction accuracy: 0.8681\n",
            "Prediction recall: 0.8333\n",
            "Prediction precision: 0.8750\n",
            "Prediction F1: 0.8537\n",
            "AUC-ROC : 0.9174\n",
            "\n"
          ]
        },
        {
          "output_type": "stream",
          "name": "stderr",
          "text": [
            "/usr/local/lib/python3.10/dist-packages/sklearn/linear_model/_logistic.py:469: ConvergenceWarning: lbfgs failed to converge (status=1):\n",
            "STOP: TOTAL NO. of ITERATIONS REACHED LIMIT.\n",
            "\n",
            "Increase the number of iterations (max_iter) or scale the data as shown in:\n",
            "    https://scikit-learn.org/stable/modules/preprocessing.html\n",
            "Please also refer to the documentation for alternative solver options:\n",
            "    https://scikit-learn.org/stable/modules/linear_model.html#logistic-regression\n",
            "  n_iter_i = _check_optimize_result(\n"
          ]
        }
      ],
      "source": [
        "#######################################################################\n",
        "### Python Pandas and Scikit-learn\n",
        "\n",
        "from sklearn.linear_model import LogisticRegression\n",
        "\n",
        "# we first split all data into test set and training & validation sets combined\n",
        "X_train, X_test, y_train, y_test = train_test_split(X_pd, y_pd, test_size=0.3, random_state=1)\n",
        "\n",
        "log_clf = LogisticRegression()\n",
        "log_clf.fit(X_train, y_train)                                    # fit the model\n",
        "log_clf_pred = log_clf.predict(X_test)                    # make predictions\n",
        "log_clf_score = log_clf.predict_proba(X_test)             # get prediction scores\n",
        "\n",
        "## accuracy\n",
        "log_clf_acc = accuracy_score(y_test, log_clf_pred)\n",
        "print('Prediction accuracy: {:.4f}'.format(log_clf_acc))\n",
        "\n",
        "## recall\n",
        "log_clf_recall = recall_score(y_test, log_clf_pred)\n",
        "print('Prediction recall: {:.4f}'.format(log_clf_recall))\n",
        "\n",
        "## precision\n",
        "log_clf_precision = precision_score(y_test, log_clf_pred)\n",
        "print('Prediction precision: {:.4f}'.format(log_clf_precision))\n",
        "\n",
        "## F1 score\n",
        "log_clf_f1 = f1_score(y_test, log_clf_pred)\n",
        "print('Prediction F1: {:.4f}'.format(log_clf_f1))\n",
        "\n",
        "## AUC-ROC\n",
        "log_clf_auc = roc_auc_score(y_test, log_clf_score[:, 1])\n",
        "print('AUC-ROC : {:.4f}'.format(log_clf_auc))\n",
        "print()"
      ]
    },
    {
      "cell_type": "code",
      "source": [
        "#######################################################################\n",
        "### Python Pandas and Scikit-learn\n",
        "\n",
        "# you can use the code below to extract logistic regression's features and their\n",
        "# coefficients; specifically, feature_names_in_ will return all the input features,\n",
        "# and coef_ will return all the features' estimated coefficients\n",
        "\n",
        "log_clf_coef = pd.DataFrame({\n",
        "    'Feature Name': log_clf.feature_names_in_,\n",
        "    'Coefficient': log_clf.coef_[0] # scikit-learn doesn't provide std.dev. or p-value; we need a separate package for it (e.g., linear model package).\n",
        "})\n",
        "print(log_clf_coef)\n",
        "\n",
        "# what are the potential factors that can increase the risk of heart diseases?"
      ],
      "metadata": {
        "id": "_KhOaHVwVZ-S",
        "colab": {
          "base_uri": "https://localhost:8080/"
        },
        "outputId": "4d2937f4-18dd-41e3-c480-a9ac947db688"
      },
      "execution_count": null,
      "outputs": [
        {
          "output_type": "stream",
          "name": "stdout",
          "text": [
            "   Feature Name  Coefficient\n",
            "0           age    -0.037168\n",
            "1           sex     0.780693\n",
            "2            cp     0.401279\n",
            "3      trestbps     0.011668\n",
            "4          chol     0.001931\n",
            "5           fbs    -0.066884\n",
            "6       restecg     0.204589\n",
            "7       thalach    -0.029041\n",
            "8         exang     0.747291\n",
            "9       oldpeak     0.469556\n",
            "10        slope    -0.012121\n",
            "11           ca     1.160545\n",
            "12         thal     0.209386\n"
          ]
        }
      ]
    },
    {
      "cell_type": "code",
      "source": [
        "#######################################################################\n",
        "### PySpark\n",
        "\n",
        "from pyspark.ml.feature import VectorAssembler\n",
        "from pyspark.ml.classification import LogisticRegression\n",
        "from pyspark.ml.evaluation import MulticlassClassificationEvaluator, BinaryClassificationEvaluator\n",
        "\n",
        "# Split the data into training and test sets\n",
        "train_data, test_data = data.randomSplit([0.7, 0.3], seed=42)\n",
        "\n",
        "# Initialize and fit the Logistic Regression model\n",
        "log_reg = LogisticRegression(featuresCol='features', labelCol='label')\n",
        "log_reg_model = log_reg.fit(train_data)\n",
        "\n",
        "# Make predictions on the test data\n",
        "log_reg_predictions = log_reg_model.transform(test_data)\n",
        "\n",
        "# Evaluate the model\n",
        "evaluator = MulticlassClassificationEvaluator(labelCol='label', predictionCol='prediction', metricName='accuracy')\n",
        "accuracy = evaluator.evaluate(log_reg_predictions)\n",
        "print('Prediction accuracy: {:.4f}'.format(accuracy))\n",
        "\n",
        "recall_evaluator = MulticlassClassificationEvaluator(labelCol='label', predictionCol='prediction', metricName='weightedRecall')\n",
        "recall = recall_evaluator.evaluate(log_reg_predictions)\n",
        "print('Prediction recall: {:.4f}'.format(recall))\n",
        "\n",
        "precision_evaluator = MulticlassClassificationEvaluator(labelCol='label', predictionCol='prediction', metricName='weightedPrecision')\n",
        "precision = precision_evaluator.evaluate(log_reg_predictions)\n",
        "print('Prediction precision: {:.4f}'.format(precision))\n",
        "\n",
        "f1_evaluator = MulticlassClassificationEvaluator(labelCol='label', predictionCol='prediction', metricName='f1')\n",
        "f1_score = f1_evaluator.evaluate(log_reg_predictions)\n",
        "print('Prediction F1: {:.4f}'.format(f1_score))\n",
        "\n",
        "# Evaluate AUC-ROC\n",
        "binary_evaluator = BinaryClassificationEvaluator(labelCol='label', rawPredictionCol='probability', metricName='areaUnderROC')\n",
        "auc_roc = binary_evaluator.evaluate(log_reg_predictions)\n",
        "print('AUC-ROC: {:.4f}'.format(auc_roc))"
      ],
      "metadata": {
        "colab": {
          "base_uri": "https://localhost:8080/"
        },
        "id": "Xzp85vrfdF0V",
        "outputId": "424fae89-28b8-411c-af29-6a65df8ae61a"
      },
      "execution_count": null,
      "outputs": [
        {
          "output_type": "stream",
          "name": "stdout",
          "text": [
            "Prediction accuracy: 0.8228\n",
            "Prediction recall: 0.8228\n",
            "Prediction precision: 0.8232\n",
            "Prediction F1: 0.8208\n",
            "AUC-ROC: 0.8972\n"
          ]
        }
      ]
    },
    {
      "cell_type": "code",
      "source": [
        "#######################################################################\n",
        "### PySpark\n",
        "\n",
        "# Extract the coefficients\n",
        "coefficients = log_reg_model.coefficients\n",
        "intercept = log_reg_model.intercept\n",
        "print(f\"Intercept: {intercept}\")\n",
        "\n",
        "# Combine feature names and coefficients into a DataFrame\n",
        "# feature_cols = log_reg_model.feature_names_in_\n",
        "## AttributeError: 'LogisticRegressionModel' object has no attribute 'feature_names_in_'\n",
        "\n",
        "import pandas as pd\n",
        "log_reg_coef = pd.DataFrame({\n",
        "    # 'Feature Name': feature_cols,\n",
        "    'Coefficient': coefficients.tolist()  # convert Spark Vector to a list and then Pandas DataFrame\n",
        "})\n",
        "\n",
        "print(log_reg_coef)"
      ],
      "metadata": {
        "colab": {
          "base_uri": "https://localhost:8080/"
        },
        "id": "5SMusOBggBH5",
        "outputId": "68cfa663-97de-4c4b-b868-4a8e8749912e"
      },
      "execution_count": null,
      "outputs": [
        {
          "output_type": "stream",
          "name": "stdout",
          "text": [
            "Intercept: -5.240188536616869\n",
            "    Coefficient\n",
            "0     -0.044803\n",
            "1      1.159590\n",
            "2      0.786472\n",
            "3      0.030997\n",
            "4      0.003269\n",
            "5     -0.325568\n",
            "6      0.264148\n",
            "7     -0.026873\n",
            "8      1.172947\n",
            "9      0.150227\n",
            "10     0.428087\n",
            "11     1.404804\n",
            "12     0.233879\n"
          ]
        }
      ]
    },
    {
      "cell_type": "markdown",
      "source": [
        "### Method 4: Support Vector Machine"
      ],
      "metadata": {
        "id": "UvvfydFeHat9"
      }
    },
    {
      "cell_type": "code",
      "source": [
        "#######################################################################\n",
        "### Python Pandas and Scikit-learn\n",
        "\n",
        "from sklearn.svm import LinearSVC\n",
        "\n",
        "# we first split all data into test set and training & validation sets combined\n",
        "X_train, X_test, y_train, y_test = train_test_split(X_pd, y_pd, test_size=0.3, random_state=1)\n",
        "\n",
        "svm = LinearSVC()\n",
        "svm.fit(X_train, y_train)                                # fit the model\n",
        "svm_pred = svm.predict(X_test)                    # make predictions\n",
        "\n",
        "## accuracy\n",
        "svm_acc = accuracy_score(y_test, svm_pred)\n",
        "print('Prediction accuracy: {:.4f}'.format(svm_acc))\n",
        "\n",
        "## recall\n",
        "svm_recall = recall_score(y_test, svm_pred)\n",
        "print('Prediction recall: {:.4f}'.format(svm_recall))\n",
        "\n",
        "## precision\n",
        "svm_precision = precision_score(y_test, svm_pred)\n",
        "print('Prediction precision: {:.4f}'.format(svm_precision))\n",
        "\n",
        "## F1 score\n",
        "svm_f1 = f1_score(y_test, svm_pred)\n",
        "print('Prediction F1: {:.4f}'.format(svm_f1))"
      ],
      "metadata": {
        "id": "nr96_YMF0wV-",
        "colab": {
          "base_uri": "https://localhost:8080/"
        },
        "outputId": "93089432-e6a1-4036-d7eb-65eb4636f400"
      },
      "execution_count": null,
      "outputs": [
        {
          "output_type": "stream",
          "name": "stdout",
          "text": [
            "Prediction accuracy: 0.8791\n",
            "Prediction recall: 0.8571\n",
            "Prediction precision: 0.8780\n",
            "Prediction F1: 0.8675\n"
          ]
        }
      ]
    },
    {
      "cell_type": "code",
      "source": [
        "#######################################################################\n",
        "### Python Pandas and Scikit-learn\n",
        "\n",
        "# by default, scikit-learn will run the svm algorithm for 1000 iterations\n",
        "# which might lead to less desirable performance (e.g., warning message of not converging)\n",
        "# you can change the maximum number of iterations by specifying a number of the max_iter parameter\n",
        "\n",
        "# quick check 2: change the max_iter to a larger number, fit the model, and make predictions\n",
        "# print out the performance and compare the performance with previous results\n",
        "# what did you find?\n",
        "\n",
        "# svm = LinearSVC(max_iter='?')             # TODO: change '?' to a number larger than 1000\n",
        "svm = LinearSVC(max_iter=5000)              # TODO: change '?' to a number larger than 1000"
      ],
      "metadata": {
        "id": "2WhDYJyOXJ-g"
      },
      "execution_count": null,
      "outputs": []
    },
    {
      "cell_type": "code",
      "source": [
        "#######################################################################\n",
        "### PySpark\n",
        "\n",
        "# pyspark.ml.classification.LinearSV\n",
        "# https://spark.apache.org/docs/latest/api/python/reference/api/pyspark.ml.classification.LinearSVC.html\n",
        "\n",
        "from pyspark.ml.feature import VectorAssembler\n",
        "from pyspark.ml.classification import LinearSVC\n",
        "from pyspark.ml.evaluation import MulticlassClassificationEvaluator, BinaryClassificationEvaluator\n",
        "\n",
        "# Split the data into training and test sets\n",
        "train_data, test_data = data.randomSplit([0.7, 0.3], seed=42)\n",
        "\n",
        "# Initialize and fit the LinearSVC model\n",
        "svm = LinearSVC(featuresCol='features', labelCol='label')\n",
        "# svm = LinearSVC(featuresCol='features', labelCol='label', maxIter=5000) # with maxIter=5000\n",
        "svm_model = svm.fit(train_data)\n",
        "\n",
        "# Make predictions on the test data\n",
        "svm_predictions = svm_model.transform(test_data)\n",
        "\n",
        "# Evaluate the model\n",
        "evaluator = MulticlassClassificationEvaluator(labelCol='label', predictionCol='prediction', metricName='accuracy')\n",
        "accuracy = evaluator.evaluate(svm_predictions)\n",
        "print('Prediction accuracy: {:.4f}'.format(accuracy))\n",
        "\n",
        "recall_evaluator = MulticlassClassificationEvaluator(labelCol='label', predictionCol='prediction', metricName='weightedRecall')\n",
        "recall = recall_evaluator.evaluate(svm_predictions)\n",
        "print('Prediction recall: {:.4f}'.format(recall))\n",
        "\n",
        "precision_evaluator = MulticlassClassificationEvaluator(labelCol='label', predictionCol='prediction', metricName='weightedPrecision')\n",
        "precision = precision_evaluator.evaluate(svm_predictions)\n",
        "print('Prediction precision: {:.4f}'.format(precision))\n",
        "\n",
        "f1_evaluator = MulticlassClassificationEvaluator(labelCol='label', predictionCol='prediction', metricName='f1')\n",
        "f1_score = f1_evaluator.evaluate(svm_predictions)\n",
        "print('Prediction F1: {:.4f}'.format(f1_score))\n"
      ],
      "metadata": {
        "colab": {
          "base_uri": "https://localhost:8080/"
        },
        "id": "VlT-LndNdkw5",
        "outputId": "f2deed59-e9f6-465f-8f2e-365587e42edb"
      },
      "execution_count": null,
      "outputs": [
        {
          "output_type": "stream",
          "name": "stdout",
          "text": [
            "Prediction accuracy: 0.8608\n",
            "Prediction recall: 0.8608\n",
            "Prediction precision: 0.8639\n",
            "Prediction F1: 0.8586\n"
          ]
        }
      ]
    },
    {
      "cell_type": "markdown",
      "source": [
        "### Method 5: Decision Tree"
      ],
      "metadata": {
        "id": "OZWhInjoHenV"
      }
    },
    {
      "cell_type": "code",
      "source": [
        "#######################################################################\n",
        "### Python Pandas and Scikit-learn\n",
        "\n",
        "from sklearn.tree import DecisionTreeClassifier, plot_tree\n",
        "from sklearn.metrics import confusion_matrix, accuracy_score, recall_score,\\\n",
        "    precision_score, f1_score, roc_auc_score\n",
        "\n",
        "# we first split all data into test set and training & validation sets combined\n",
        "X_train, X_test, y_train, y_test = train_test_split(X_pd, y_pd, test_size=0.3, random_state=1)\n",
        "\n",
        "dt_clf = DecisionTreeClassifier(max_depth=3) # max_depth=3\n",
        "dt_clf.fit(X_train, y_train)                                # fit the model\n",
        "dt_clf_pred = dt_clf.predict(X_test)                 # make predictions\n",
        "dt_clf_score = dt_clf.predict_proba(X_test)          # get prediction scores\n",
        "\n",
        "print(dt_clf_pred)\n",
        "\n",
        "print(dt_clf_score)"
      ],
      "metadata": {
        "colab": {
          "base_uri": "https://localhost:8080/"
        },
        "id": "49ESYs_OWt_3",
        "outputId": "f13fcde5-8d5d-473c-f7a9-ee7777d12072"
      },
      "execution_count": null,
      "outputs": [
        {
          "output_type": "stream",
          "name": "stdout",
          "text": [
            "[0 1 0 1 0 0 0 1 0 0 0 0 0 0 0 0 0 0 0 0 0 1 0 1 0 0 1 1 0 1 1 1 1 0 0 1 0\n",
            " 0 1 1 0 0 1 1 1 1 0 0 0 0 0 1 1 0 1 0 0 0 0 1 1 1 1 0 0 1 0 0 1 0 0 1 0 1\n",
            " 1 0 1 0 0 0 0 0 0 0 0 1 1 0 1 0 0]\n",
            "[[0.75       0.25      ]\n",
            " [0.08196721 0.91803279]\n",
            " [0.86138614 0.13861386]\n",
            " [0.08196721 0.91803279]\n",
            " [0.86138614 0.13861386]\n",
            " [0.86138614 0.13861386]\n",
            " [0.86138614 0.13861386]\n",
            " [0.08196721 0.91803279]\n",
            " [0.66666667 0.33333333]\n",
            " [0.86138614 0.13861386]\n",
            " [0.75       0.25      ]\n",
            " [0.86138614 0.13861386]\n",
            " [0.86138614 0.13861386]\n",
            " [0.86138614 0.13861386]\n",
            " [0.86138614 0.13861386]\n",
            " [0.86138614 0.13861386]\n",
            " [0.86138614 0.13861386]\n",
            " [0.86138614 0.13861386]\n",
            " [0.86138614 0.13861386]\n",
            " [0.86138614 0.13861386]\n",
            " [0.86138614 0.13861386]\n",
            " [0.08196721 0.91803279]\n",
            " [0.86138614 0.13861386]\n",
            " [0.08196721 0.91803279]\n",
            " [0.86138614 0.13861386]\n",
            " [0.66666667 0.33333333]\n",
            " [0.08196721 0.91803279]\n",
            " [0.2        0.8       ]\n",
            " [0.86138614 0.13861386]\n",
            " [0.08196721 0.91803279]\n",
            " [0.3        0.7       ]\n",
            " [0.3        0.7       ]\n",
            " [0.08196721 0.91803279]\n",
            " [0.86138614 0.13861386]\n",
            " [0.86138614 0.13861386]\n",
            " [0.3        0.7       ]\n",
            " [0.6        0.4       ]\n",
            " [0.86138614 0.13861386]\n",
            " [0.08196721 0.91803279]\n",
            " [0.3        0.7       ]\n",
            " [0.86138614 0.13861386]\n",
            " [0.86138614 0.13861386]\n",
            " [0.08196721 0.91803279]\n",
            " [0.08196721 0.91803279]\n",
            " [0.08196721 0.91803279]\n",
            " [0.         1.        ]\n",
            " [0.86138614 0.13861386]\n",
            " [0.86138614 0.13861386]\n",
            " [0.86138614 0.13861386]\n",
            " [0.75       0.25      ]\n",
            " [0.86138614 0.13861386]\n",
            " [0.3        0.7       ]\n",
            " [0.08196721 0.91803279]\n",
            " [0.86138614 0.13861386]\n",
            " [0.08196721 0.91803279]\n",
            " [0.86138614 0.13861386]\n",
            " [0.6        0.4       ]\n",
            " [0.75       0.25      ]\n",
            " [0.75       0.25      ]\n",
            " [0.         1.        ]\n",
            " [0.08196721 0.91803279]\n",
            " [0.08196721 0.91803279]\n",
            " [0.08196721 0.91803279]\n",
            " [0.86138614 0.13861386]\n",
            " [0.75       0.25      ]\n",
            " [0.08196721 0.91803279]\n",
            " [0.86138614 0.13861386]\n",
            " [0.86138614 0.13861386]\n",
            " [0.3        0.7       ]\n",
            " [0.75       0.25      ]\n",
            " [0.86138614 0.13861386]\n",
            " [0.3        0.7       ]\n",
            " [0.86138614 0.13861386]\n",
            " [0.3        0.7       ]\n",
            " [0.08196721 0.91803279]\n",
            " [0.86138614 0.13861386]\n",
            " [0.08196721 0.91803279]\n",
            " [0.75       0.25      ]\n",
            " [0.75       0.25      ]\n",
            " [0.66666667 0.33333333]\n",
            " [0.86138614 0.13861386]\n",
            " [0.86138614 0.13861386]\n",
            " [0.66666667 0.33333333]\n",
            " [0.86138614 0.13861386]\n",
            " [0.86138614 0.13861386]\n",
            " [0.08196721 0.91803279]\n",
            " [0.3        0.7       ]\n",
            " [0.75       0.25      ]\n",
            " [0.08196721 0.91803279]\n",
            " [0.86138614 0.13861386]\n",
            " [0.86138614 0.13861386]]\n"
          ]
        }
      ]
    },
    {
      "cell_type": "code",
      "source": [
        "######################################################################\n",
        "### Python Pandas and Scikit-learn\n",
        "\n",
        "# Alternative threshold than 0.5?\n",
        "dt_clf_score[:, 1] > 0.9"
      ],
      "metadata": {
        "colab": {
          "base_uri": "https://localhost:8080/"
        },
        "id": "kowvzG5luPGM",
        "outputId": "9716de06-009d-4118-d026-f24bd7d83052"
      },
      "execution_count": null,
      "outputs": [
        {
          "output_type": "execute_result",
          "data": {
            "text/plain": [
              "array([False,  True, False,  True, False, False, False,  True, False,\n",
              "       False, False, False, False, False, False, False, False, False,\n",
              "       False, False, False,  True, False,  True, False, False,  True,\n",
              "       False, False,  True, False, False,  True, False, False, False,\n",
              "       False, False,  True, False, False, False,  True,  True,  True,\n",
              "        True, False, False, False, False, False, False,  True, False,\n",
              "        True, False, False, False, False,  True,  True,  True,  True,\n",
              "       False, False,  True, False, False, False, False, False, False,\n",
              "       False, False,  True, False,  True, False, False, False, False,\n",
              "       False, False, False, False,  True, False, False,  True, False,\n",
              "       False])"
            ]
          },
          "metadata": {},
          "execution_count": 29
        }
      ]
    },
    {
      "cell_type": "code",
      "source": [
        "#######################################################################\n",
        "### Python Pandas and Scikit-learn\n",
        "\n",
        "from sklearn.tree import DecisionTreeClassifier, plot_tree\n",
        "from sklearn.metrics import confusion_matrix, accuracy_score, recall_score,\\\n",
        "    precision_score, f1_score, roc_auc_score\n",
        "\n",
        "# we first split all data into test set and training & validation sets combined\n",
        "X_train, X_test, y_train, y_test = train_test_split(X_pd, y_pd, test_size=0.3, random_state=1)\n",
        "\n",
        "dt_clf = DecisionTreeClassifier()\n",
        "dt_clf.fit(X_train, y_train)                                # fit the model\n",
        "dt_clf_pred = dt_clf.predict(X_test)                 # make predictions\n",
        "dt_clf_score = dt_clf.predict_proba(X_test)          # get prediction scores\n",
        "\n",
        "\n",
        "## accuracy\n",
        "dt_clf_acc = accuracy_score(y_test, dt_clf_pred)\n",
        "print('Prediction accuracy: {:.4f}'.format(dt_clf_acc))\n",
        "\n",
        "## recall\n",
        "dt_clf_recall = recall_score(y_test, dt_clf_pred)\n",
        "print('Prediction recall: {:.4f}'.format(dt_clf_recall))\n",
        "\n",
        "## precision\n",
        "dt_clf_precision = precision_score(y_test, dt_clf_pred)\n",
        "print('Prediction precision: {:.4f}'.format(dt_clf_precision))\n",
        "\n",
        "## F1 score\n",
        "dt_clf_f1 = f1_score(y_test, dt_clf_pred)\n",
        "print('Prediction F1: {:.4f}'.format(dt_clf_f1))\n",
        "\n",
        "# auc-roc\n",
        "dt_clf_auc = roc_auc_score(y_test, dt_clf_score[:, 1])\n",
        "print('AUC-ROC: {:.4f}'.format(dt_clf_auc))"
      ],
      "metadata": {
        "id": "mehJBY5JYzvg",
        "colab": {
          "base_uri": "https://localhost:8080/"
        },
        "outputId": "04dc0e02-31a0-4c98-a00a-046a793c924c"
      },
      "execution_count": null,
      "outputs": [
        {
          "output_type": "stream",
          "name": "stdout",
          "text": [
            "Prediction accuracy: 0.8132\n",
            "Prediction recall: 0.8333\n",
            "Prediction precision: 0.7778\n",
            "Prediction F1: 0.8046\n",
            "AUC-ROC: 0.8146\n"
          ]
        }
      ]
    },
    {
      "cell_type": "code",
      "source": [
        "#######################################################################\n",
        "### Python Pandas and Scikit-learn\n",
        "\n",
        "# by default, scikit-learn will expand a decision tree until all leaves are pure\n",
        "# this will cause sever \"overfitting\" issue as we will discuss in the future\n",
        "# try specifying the 'max_depth' parameter to be 3 so that the tree will only have a depth of 3\n",
        "\n",
        "dt_clf = DecisionTreeClassifier(max_depth=3)    # TODO: change '?' to 3\n",
        "dt_clf.fit(X_train, y_train)                                # fit the model\n",
        "dt_clf_pred = dt_clf.predict(X_test)                 # make predictions\n",
        "dt_clf_score = dt_clf.predict_proba(X_test)          # get prediction scores\n",
        "\n",
        "## accuracy\n",
        "dt_clf_acc = accuracy_score(y_test, dt_clf_pred)\n",
        "print('Prediction accuracy: {:.4f}'.format(dt_clf_acc))\n",
        "\n",
        "## recall\n",
        "dt_clf_recall = recall_score(y_test, dt_clf_pred)\n",
        "print('Prediction recall: {:.4f}'.format(dt_clf_recall))\n",
        "\n",
        "## precision\n",
        "dt_clf_precision = precision_score(y_test, dt_clf_pred)\n",
        "print('Prediction precision: {:.4f}'.format(dt_clf_precision))\n",
        "\n",
        "## F1 score\n",
        "dt_clf_f1 = f1_score(y_test, dt_clf_pred)\n",
        "print('Prediction F1: {:.4f}'.format(dt_clf_f1))\n",
        "\n",
        "# auc-roc\n",
        "dt_clf_auc = roc_auc_score(y_test, dt_clf_score[:, 1])\n",
        "print('AUC-ROC: {:.4f}'.format(dt_clf_auc))"
      ],
      "metadata": {
        "id": "xAiuG6vZaxjv",
        "colab": {
          "base_uri": "https://localhost:8080/"
        },
        "outputId": "f488e85f-b5e1-48ff-8f00-b27ff487c585"
      },
      "execution_count": null,
      "outputs": [
        {
          "output_type": "stream",
          "name": "stdout",
          "text": [
            "Prediction accuracy: 0.7802\n",
            "Prediction recall: 0.6667\n",
            "Prediction precision: 0.8235\n",
            "Prediction F1: 0.7368\n",
            "AUC-ROC: 0.7891\n"
          ]
        }
      ]
    },
    {
      "cell_type": "code",
      "source": [
        "#######################################################################\n",
        "### Python Pandas and Scikit-learn\n",
        "\n",
        "# in this module, we plot the decision tree using the plot_tree function\n",
        "# we also changed the default figure size and export the figure to an external pdf file\n",
        "# using the matplotlib library\n",
        "import matplotlib.pyplot as plt\n",
        "plt.figure(figsize=(24, 24))\n",
        "plot_tree(dt_clf, feature_names=X_pd.columns)\n",
        "plt.savefig('decision_tree_graph.pdf')\n",
        "\n",
        "# how can we interpret the results from the decision tree?"
      ],
      "metadata": {
        "id": "xbQhgTXcZi5q",
        "colab": {
          "base_uri": "https://localhost:8080/",
          "height": 1000
        },
        "outputId": "efc08995-0b6c-4631-abe4-3a510b6a0657"
      },
      "execution_count": null,
      "outputs": [
        {
          "output_type": "display_data",
          "data": {
            "text/plain": [
              "<Figure size 2400x2400 with 1 Axes>"
            ],
            "image/png": "[encoded data removed]"
          },
          "metadata": {}
        }
      ]
    },
    {
      "cell_type": "markdown",
      "source": [
        "**Gini Index**: a measure that indicates how homogeneous each subset is.\n",
        "\n",
        "The Gini Index or Impurity measures the probability for a random instance being misclassified when chosen randomly. **The lower the Gini Index, the lower the likelihood of misclassification** [see here for details](https://towardsdatascience.com/decision-trees-explained-entropy-information-gain-gini-index-ccp-pruning-4d78070db36c).\n",
        "\n",
        "This [link](https://towardsdatascience.com/decision-tree-classifier-explained-in-real-life-picking-a-vacation-destination-6226b2b60575#:~:text=Decision%20trees%20are%20a%20rule,off%20between%20interpretability%20and%20performance.) provide more details on how decision tree splits branches."
      ],
      "metadata": {
        "id": "WY7D33TJmCNX"
      }
    },
    {
      "cell_type": "code",
      "source": [
        "#######################################################################\n",
        "### PySpark\n",
        "\n",
        "from pyspark.ml.feature import VectorAssembler\n",
        "from pyspark.ml.classification import DecisionTreeClassifier\n",
        "from pyspark.ml.evaluation import MulticlassClassificationEvaluator, BinaryClassificationEvaluator\n",
        "import pandas as pd\n",
        "\n",
        "# # Assemble the features into a single vector column\n",
        "# feature_cols = [c for c in data.columns if c != 'num']\n",
        "# assembler = VectorAssembler(inputCols=feature_cols, outputCol='features')\n",
        "# data = assembler.transform(data)\n",
        "\n",
        "# # Prepare the DataFrame for modeling\n",
        "# data = data.select(col('features'), col('num').alias('label'))\n",
        "\n",
        "# Split the data into training and test sets\n",
        "train_data, test_data = data.randomSplit([0.7, 0.3], seed=42)\n",
        "\n",
        "# Initialize and fit the Decision Tree model with default maxDepth=5\n",
        "dt_clf = DecisionTreeClassifier(featuresCol='features', labelCol='label')\n",
        "dt_clf_model = dt_clf.fit(train_data)\n",
        "\n",
        "# Make predictions on the test data\n",
        "dt_clf_predictions = dt_clf_model.transform(test_data)\n",
        "\n",
        "# Extract predicted labels and probabilities\n",
        "dt_clf_pred = dt_clf_predictions.select('prediction').collect()\n",
        "dt_clf_score = dt_clf_predictions.select('probability').collect()\n",
        "\n",
        "# Convert to Pandas DataFrame for easier handling (optional)\n",
        "dt_clf_pred_df = pd.DataFrame(dt_clf_pred, columns=['Prediction'])\n",
        "dt_clf_score_df = pd.DataFrame(dt_clf_score, columns=['Probability'])\n",
        "\n",
        "print(dt_clf_pred_df)\n",
        "print(dt_clf_score_df)\n",
        "\n",
        "\n",
        "# Evaluate the model\n",
        "# Accuracy\n",
        "evaluator = MulticlassClassificationEvaluator(labelCol='label', predictionCol='prediction', metricName='accuracy')\n",
        "accuracy = evaluator.evaluate(dt_clf_predictions)\n",
        "print('Prediction accuracy: {:.4f}'.format(accuracy))\n",
        "\n",
        "# Recall\n",
        "recall_evaluator = MulticlassClassificationEvaluator(labelCol='label', predictionCol='prediction', metricName='weightedRecall')\n",
        "recall = recall_evaluator.evaluate(dt_clf_predictions)\n",
        "print('Prediction recall: {:.4f}'.format(recall))\n",
        "\n",
        "# Precision\n",
        "precision_evaluator = MulticlassClassificationEvaluator(labelCol='label', predictionCol='prediction', metricName='weightedPrecision')\n",
        "precision = precision_evaluator.evaluate(dt_clf_predictions)\n",
        "print('Prediction precision: {:.4f}'.format(precision))\n",
        "\n",
        "# F1 Score\n",
        "f1_evaluator = MulticlassClassificationEvaluator(labelCol='label', predictionCol='prediction', metricName='f1')\n",
        "f1_score = f1_evaluator.evaluate(dt_clf_predictions)\n",
        "print('Prediction F1: {:.4f}'.format(f1_score))\n",
        "\n",
        "# AUC-ROC\n",
        "binary_evaluator = BinaryClassificationEvaluator(labelCol='label', rawPredictionCol='probability', metricName='areaUnderROC')\n",
        "auc_roc = binary_evaluator.evaluate(dt_clf_predictions)\n",
        "print('AUC-ROC: {:.4f}'.format(auc_roc))\n"
      ],
      "metadata": {
        "colab": {
          "base_uri": "https://localhost:8080/"
        },
        "id": "8IG3Ep08iGwF",
        "outputId": "66cda18b-78eb-48e5-e78d-05508ae58bd3"
      },
      "execution_count": null,
      "outputs": [
        {
          "output_type": "stream",
          "name": "stdout",
          "text": [
            "    Prediction\n",
            "0          0.0\n",
            "1          0.0\n",
            "2          0.0\n",
            "3          0.0\n",
            "4          0.0\n",
            "..         ...\n",
            "74         0.0\n",
            "75         1.0\n",
            "76         1.0\n",
            "77         0.0\n",
            "78         0.0\n",
            "\n",
            "[79 rows x 1 columns]\n",
            "                                  Probability\n",
            "0                                  [1.0, 0.0]\n",
            "1                                  [1.0, 0.0]\n",
            "2   [0.9230769230769231, 0.07692307692307693]\n",
            "3                                  [1.0, 0.0]\n",
            "4    [0.8490566037735849, 0.1509433962264151]\n",
            "..                                        ...\n",
            "74   [0.8490566037735849, 0.1509433962264151]\n",
            "75                                 [0.0, 1.0]\n",
            "76                                 [0.0, 1.0]\n",
            "77                                 [1.0, 0.0]\n",
            "78  [0.9230769230769231, 0.07692307692307693]\n",
            "\n",
            "[79 rows x 1 columns]\n",
            "Prediction accuracy: 0.7595\n",
            "Prediction recall: 0.7595\n",
            "Prediction precision: 0.7579\n",
            "Prediction F1: 0.7576\n",
            "AUC-ROC: 0.8175\n"
          ]
        }
      ]
    },
    {
      "cell_type": "code",
      "source": [
        "#######################################################################\n",
        "### PySpark\n",
        "\n",
        "# # by default, Spark DecisionTreeClassifier has maxDepth value of 5.\n",
        "# # The higher number of maxDepth may cause \"overfitting\" issue as we will discuss in the future.\n",
        "# # try specifying the 'maxDepth' parameter to be 3 so that the tree will only have a depth of 3\n",
        "# dt_clf = DecisionTreeClassifier(maxDepth=3)    # TODO: change '?' to 3\n",
        "\n",
        "from pyspark.ml.feature import VectorAssembler\n",
        "from pyspark.ml.classification import DecisionTreeClassifier\n",
        "from pyspark.ml.evaluation import MulticlassClassificationEvaluator, BinaryClassificationEvaluator\n",
        "import pandas as pd\n",
        "\n",
        "# Split the data into training and test sets\n",
        "train_data, test_data = data.randomSplit([0.7, 0.3], seed=42)\n",
        "\n",
        "# Initialize and fit the Decision Tree model with maxDepth=3\n",
        "dt_clf = DecisionTreeClassifier(featuresCol='features', labelCol='label', maxDepth=3)\n",
        "dt_clf_model = dt_clf.fit(train_data)\n",
        "\n",
        "# Make predictions on the test data\n",
        "dt_clf_predictions = dt_clf_model.transform(test_data)\n",
        "\n",
        "# Evaluate the model\n",
        "# Accuracy\n",
        "evaluator = MulticlassClassificationEvaluator(labelCol='label', predictionCol='prediction', metricName='accuracy')\n",
        "accuracy = evaluator.evaluate(dt_clf_predictions)\n",
        "print('Prediction accuracy: {:.4f}'.format(accuracy))\n",
        "\n",
        "# Recall\n",
        "recall_evaluator = MulticlassClassificationEvaluator(labelCol='label', predictionCol='prediction', metricName='weightedRecall')\n",
        "recall = recall_evaluator.evaluate(dt_clf_predictions)\n",
        "print('Prediction recall: {:.4f}'.format(recall))\n",
        "\n",
        "# Precision\n",
        "precision_evaluator = MulticlassClassificationEvaluator(labelCol='label', predictionCol='prediction', metricName='weightedPrecision')\n",
        "precision = precision_evaluator.evaluate(dt_clf_predictions)\n",
        "print('Prediction precision: {:.4f}'.format(precision))\n",
        "\n",
        "# F1 Score\n",
        "f1_evaluator = MulticlassClassificationEvaluator(labelCol='label', predictionCol='prediction', metricName='f1')\n",
        "f1_score = f1_evaluator.evaluate(dt_clf_predictions)\n",
        "print('Prediction F1: {:.4f}'.format(f1_score))\n",
        "\n",
        "# AUC-ROC\n",
        "binary_evaluator = BinaryClassificationEvaluator(labelCol='label', rawPredictionCol='probability', metricName='areaUnderROC')\n",
        "auc_roc = binary_evaluator.evaluate(dt_clf_predictions)\n",
        "print('AUC-ROC: {:.4f}'.format(auc_roc))"
      ],
      "metadata": {
        "colab": {
          "base_uri": "https://localhost:8080/"
        },
        "id": "g239lEcgjT82",
        "outputId": "84872131-f2ff-4eb4-9847-03d038bb7b70"
      },
      "execution_count": null,
      "outputs": [
        {
          "output_type": "stream",
          "name": "stdout",
          "text": [
            "Prediction accuracy: 0.7848\n",
            "Prediction recall: 0.7848\n",
            "Prediction precision: 0.7849\n",
            "Prediction F1: 0.7815\n",
            "AUC-ROC: 0.7684\n"
          ]
        }
      ]
    },
    {
      "cell_type": "code",
      "source": [
        "#######################################################################\n",
        "### PySpark\n",
        "\n",
        "# Feature Importance\n",
        "# Analyze the feature importance of the decision tree model to understand the key factors contributing to the classification task.\n",
        "\n",
        "feature_importance = dt_clf_model.featureImportances.toArray()\n",
        "\n",
        "# Show feature importance\n",
        "for i, column in enumerate(assembler.getInputCols()):\n",
        "    print(f\"Feature '{column}': {feature_importance[i]:.3f}\")"
      ],
      "metadata": {
        "colab": {
          "base_uri": "https://localhost:8080/"
        },
        "id": "PcDnupU1l64r",
        "outputId": "f6209fe2-e4ec-4c3d-8a60-989cd28afae2"
      },
      "execution_count": null,
      "outputs": [
        {
          "output_type": "stream",
          "name": "stdout",
          "text": [
            "Feature 'age': 0.000\n",
            "Feature 'sex': 0.062\n",
            "Feature 'cp': 0.654\n",
            "Feature 'trestbps': 0.000\n",
            "Feature 'chol': 0.000\n",
            "Feature 'fbs': 0.000\n",
            "Feature 'restecg': 0.000\n",
            "Feature 'thalach': 0.083\n",
            "Feature 'exang': 0.000\n",
            "Feature 'oldpeak': 0.000\n",
            "Feature 'slope': 0.000\n",
            "Feature 'ca': 0.109\n",
            "Feature 'thal': 0.092\n"
          ]
        }
      ]
    },
    {
      "cell_type": "code",
      "source": [
        "#######################################################################\n",
        "### PySpark\n",
        "\n",
        "# Unfortunately, Spark MLlib does not support getting the tree structure directly like scikit-learn.\n",
        "# But you can convert the PySpark DataFrame to Pandas and use scikit-learn's capabilities if necessary."
      ],
      "metadata": {
        "id": "b_paZC6skzxN"
      },
      "execution_count": null,
      "outputs": []
    },
    {
      "cell_type": "code",
      "source": [
        "### In-Class Activity:\n",
        "# Select one algorithm and experiment with random split size\n",
        "# (e.g., 50, 40, 30, 20, 10% of entire data as test data)\n",
        "# and share your opinion on why 20-30% test data become rule-of-thumb?\n",
        "\n",
        "\n"
      ],
      "metadata": {
        "id": "_qELLQXPiDwQ"
      },
      "execution_count": null,
      "outputs": []
    },
    {
      "cell_type": "code",
      "source": [
        "# don't forget to stop your spark context!\n",
        "sc.stop()"
      ],
      "metadata": {
        "id": "g6n8v0uzSzBS"
      },
      "execution_count": null,
      "outputs": []
    }
  ]
}